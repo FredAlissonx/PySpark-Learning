{
 "cells": [
  {
   "cell_type": "code",
   "execution_count": 21,
   "metadata": {},
   "outputs": [],
   "source": [
    "from pyspark.sql import functions as F\n",
    "from pyspark.sql import SparkSession, DataFrame"
   ]
  },
  {
   "cell_type": "markdown",
   "metadata": {},
   "source": [
    "# Creating Spark Session"
   ]
  },
  {
   "cell_type": "code",
   "execution_count": 2,
   "metadata": {},
   "outputs": [],
   "source": [
    "spark = SparkSession.builder \\\n",
    "    .appName(\"Doc Learning\") \\\n",
    "    .getOrCreate()"
   ]
  },
  {
   "cell_type": "code",
   "execution_count": 3,
   "metadata": {},
   "outputs": [],
   "source": [
    "df = spark.read.csv(\"C:\\Education\\PySpark-Learning\\data\\data_per_100k_habitants.csv\", header=True, inferSchema=True)"
   ]
  },
  {
   "cell_type": "code",
   "execution_count": 4,
   "metadata": {},
   "outputs": [
    {
     "name": "stdout",
     "output_type": "stream",
     "text": [
      "+----+-----------------------------------------------------------+---+---------+---------------+--------------------+----+-----------------------------------------------------------+---+---------+---------------+--------------------+----+-----------------------------------------------------------+----+---------+---------------+--------------------+----+-----------------------------------------------------------+----+---------+---------------+--------------------+----+-----------------------------------------------------------+----+---------+---------------+--------------------+----+-----------------------------------------------------------+----+---------+---------------+--------------------+----+-----------------------------------------------------------+----+---------+---------------+--------------------+----+-----------------------------------------------------------+----+---------+---------------+--------------------+----+-----------------------------------------------------------+----+---------+---------------+--------------------+\n",
      "| _c0|Disque 100 - Ano 2011 - N�mero de den�ncias por UF, por m�s|_c2|      _c3|            _c4|                 _c5| _c6|Disque 100 - Ano 2012 - N�mero de den�ncias por UF, por m�s|_c8|      _c9|           _c10|                _c11|_c12|Disque 100 - Ano 2013 - N�mero de den�ncias por UF, por m�s|_c14|     _c15|           _c16|                _c17|_c18|Disque 100 - Ano 2014 - N�mero de den�ncias por UF, por m�s|_c20|     _c21|           _c22|                _c23|_c24|Disque 100 - Ano 2015 - N�mero de den�ncias por UF, por m�s|_c26|     _c27|           _c28|                _c29|_c30|Disque 100 - Ano 2016 - N�mero de den�ncias por UF, por m�s|_c32|     _c33|           _c34|                _c35|_c36|Disque 100 - Ano 2017 - N�mero de den�ncias por UF, por m�s|_c38|     _c39|           _c40|                _c41|_c42|Disque 100 - Ano 2018 - N�mero de den�ncias por UF, por m�s|_c44|     _c45|           _c46|                _c47|_c48|Disque 100 - Ano 2019 - N�mero de den�ncias por UF, por m�s|_c50|     _c51|           _c52|                _c53|\n",
      "+----+-----------------------------------------------------------+---+---------+---------------+--------------------+----+-----------------------------------------------------------+---+---------+---------------+--------------------+----+-----------------------------------------------------------+----+---------+---------------+--------------------+----+-----------------------------------------------------------+----+---------+---------------+--------------------+----+-----------------------------------------------------------+----+---------+---------------+--------------------+----+-----------------------------------------------------------+----+---------+---------------+--------------------+----+-----------------------------------------------------------+----+---------+---------------+--------------------+----+-----------------------------------------------------------+----+---------+---------------+--------------------+----+-----------------------------------------------------------+----+---------+---------------+--------------------+\n",
      "|NULL|                                                   Ranking*| UF|Den�ncias|Popula��o Total|Den�ncias por 100...|NULL|                                                   Ranking*| UF|Den�ncias|Popula��o Total|Den�ncias por 100...|NULL|                                                   Ranking*|  UF|Den�ncias|Popula��o Total|Den�ncias por 100...|NULL|                                                   Ranking*|  UF|Den�ncias|Popula��o Total|Den�ncias por 100...|NULL|                                                   Ranking*|  UF|Den�ncias|Popula��o Total|Den�ncias por 100...|NULL|                                                   Ranking*|  UF|Den�ncias|Popula��o Total|Den�ncias por 100...|NULL|                                                   Ranking*|  UF|Den�ncias|Popula��o Total|Den�ncias por 100...|NULL|                                                   Ranking*|  UF|Den�ncias|Popula��o Total|Den�ncias por 100...|NULL|                                                   Ranking*|  UF|Den�ncias|Popula��o Total|Den�ncias por 100...|\n",
      "|NULL|                                                         1�| DF|       58|        2570160|    2.25666884551934|NULL|                                                         1�| DF|      161|        2570160|    6.26420145049335|NULL|                                                         1�|  RO|       73|        1562409|    4.67227211312787|NULL|                                                         1�|  DF|       58|        2570160|    2.25666884551934|NULL|                                                         1�|  PA|      194|        7581051|    2.55901193647161|NULL|                                                         1�|  AP|        0|         669526|                   0|NULL|                                                         1�|  MG|      207|         733559|    28.2185890978094|NULL|                                                         1�|  MG|      316|         733559|    43.0776529222598|NULL|                                                         1�|  DF|      101|        3015268|    3.34961933731927|\n",
      "|NULL|                                                         2�| RO|       23|        1562409|    1.47208573427316|NULL|                                                         2�| MT|      114|        3035122|    3.75602694059745|NULL|                                                         2�|  DF|       94|        2570160|    3.65735985308308|NULL|                                                         2�|  PA|      168|        7581051|     2.2160515738517|NULL|                                                         2�|  DF|       61|        2570160|    2.37339309614966|NULL|                                                         2�|  MG|      162|         733559|    22.0841132069813|NULL|                                                         2�|  BA|      273|        1562409|    17.4730176285467|NULL|                                                         2�|  BA|      186|        1562409|    11.9046933293395|NULL|                                                         2�|  RR|       19|         605761|    3.13655055376625|\n",
      "|NULL|                                                         3�| MT|       44|        3035122|    1.44969460865165|NULL|                                                         3�| MS|       76|        2449024|    3.10327706057597|NULL|                                                         3�|  MT|      109|        3035122|    3.59128891688703|NULL|                                                         3�|  MT|       64|        3035122|     2.1086467034933|NULL|                                                         3�|  MT|       71|        3035122|    2.33927993668788|NULL|                                                         3�|  PA|      200|        1383445|    14.4566643415532|NULL|                                                         3�|  MT|       41|         450479|    9.10142315180064|NULL|                                                         3�|  RJ|      247|        3035122|    8.13805837129446|NULL|                                                         3�|  RN|       85|        3506853|    2.42382557808953|\n",
      "|NULL|                                                         4�| SC|       84|        6248436|    1.34433640674242|NULL|                                                         4�| RO|       43|        1562409|    2.75216028581505|NULL|                                                         4�|  MS|       66|        2449024|    2.69495113155281|NULL|                                                         4�|  AM|       51|        3483985|    1.46384097520512|NULL|                                                         4�|  TO|       22|        1383445|    1.59023307757085|NULL|                                                         4�|  MT|       47|         450479|     10.433338734991|NULL|                                                         4�|  SP|      432|        6574789|    6.57055306261539|NULL|                                                         4�|  SP|      531|        6574789|    8.07630480613142|NULL|                                                         4�|  AP|       15|         845731|    1.77361359581238|\n",
      "|NULL|                                                         5�| PE|      118|        8796448|    1.34145054913074|NULL|                                                         5�| GO|      164|        6003788|    2.73160877765837|NULL|                                                         5�|  AM|       92|        3483985|    2.64065430821315|NULL|                                                         5�|  MS|       34|        2449024|    1.38830815867872|NULL|                                                         5�|  MS|       36|        2449024|    1.46997334448335|NULL|                                                         5�|  BA|      111|        1562409|    7.10441376105744|NULL|                                                         5�|  RJ|      183|        3035122|    6.02941166780116|NULL|                                                         5�|  MT|       32|         450479|    7.10354977701513|NULL|                                                         5�|  MG|      318|       21168791|    1.50221143947238|\n",
      "|NULL|                                                         6�| MS|       31|        2449024|    1.26581037997178|NULL|                                                         6�| PA|      178|        7581051|    2.34795940562859|NULL|                                                         6�|  PB|       93|        3766528|    2.46911744715558|NULL|                                                         6�|  AC|       10|         733559|    1.36321686462848|NULL|                                                         6�|  AC|        8|         733559|    1.09057349170278|NULL|                                                         6�|  SP|      297|        6574789|    4.51725523054808|NULL|                                                         6�|  PA|       75|        1383445|    5.42124912808243|NULL|                                                         6�|  PA|       69|        1383445|    4.98754919783584|NULL|                                                         6�|  SC|       94|        7164788|    1.31197182666117|\n",
      "|NULL|                                                         7�| AC|        8|         733559|    1.09057349170278|NULL|                                                         7�| PE|      183|        8796448|    2.08038517365191|NULL|                                                         7�|  PA|      163|        7581051|    2.15009765796326|NULL|                                                         7�|  RO|       21|        1562409|    1.34407827911898|NULL|                                                         7�|  RO|       19|        1562409|    1.21607082396479|NULL|                                                         7�|  RJ|      136|        3035122|    4.48087424492327|NULL|                                                         7�|  GO|       77|        2449024|    3.14410965347828|NULL|                                                         7�|  GO|       80|        2449024|    3.26660743218523|NULL|                                                         7�|  SP|      581|       45919049|    1.26527010609475|\n",
      "|NULL|                                                         8�| TO|       15|        1383445|    1.08424982561649|NULL|                                                         8�| PB|       78|        3766528|    2.07087269761435|NULL|                                                         8�|  MG|      350|       19597330|    1.78595757687399|NULL|                                                         8�|  MA|       77|        6574789|    1.17114024495691|NULL|                                                         8�|  MA|       71|        6574789|     1.0798825635317|NULL|                                                         8�|  GO|       86|        2449024|    3.51160298959912|NULL|                                                         8�|  RS|       94|        3766528|    2.49566709712499|NULL|                                                         8�|  DF|       96|        3118360|    3.07854128452135|NULL|                                                         8�|  MT|       44|        3484466|     1.2627472904026|\n",
      "|NULL|                                                         9�| GO|       62|        6003788|    1.03268136716353|NULL|                                                         9�| RN|       61|        3168027|     1.9254886400905|NULL|                                                         9�|  ES|       62|        3514952|    1.76389321959446|NULL|                                                         9�|  GO|       68|        6003788|    1.13261827366323|NULL|                                                         9�|  BA|      145|       14016906|    1.03446509522144|NULL|                                                         9�|  RO|       70|        2570160|    2.72356584804059|NULL|                                                         9�|  PR|       73|        3168027|    2.30427329060011|NULL|                                                         9�|  RS|      113|        3766528|    3.00011044654387|NULL|                                                         9�|  MS|       34|        2778986|    1.22346784042813|\n",
      "|NULL|                                                        10�| MG|      200|       19597330|    1.02054718678514|NULL|                                                        10�| AM|       67|        3483985|    1.92308520272045|NULL|                                                        10�|  RJ|      280|       15989929|    1.75110220939693|NULL|                                                        10�|  RJ|      175|       15989929|    1.09443888087308|NULL|                                                        10�|  MG|      197|       19597330|    1.00523897898336|NULL|                                                        10�|  PE|       62|        3120494|    1.98686490023695|NULL|                                                        10�|  DF|       62|        3118360|    1.98822457958671|NULL|                                                        10�|  PE|       75|        3120494|    2.40346560512534|NULL|                                                        10�|  GO|       84|        7018354|    1.19686182828623|\n",
      "|NULL|                                                        11�| PB|       38|        3766528|    1.00888669883776|NULL|                                                        11�| MG|      370|       19597330|    1.88801229555251|NULL|                                                        11�|  TO|       24|        1383445|    1.73479972098638|NULL|                                                        11�|  PB|       34|        3766528|   0.902688098960103|NULL|                                                        11�|  AM|       35|        3483985|    1.00459674768979|NULL|                                                        11�|  DF|       49|        3118360|    1.57133878064111|NULL|                                                        11�|  PE|       59|        3120494|    1.89072627603194|NULL|                                                        11�|  PR|       69|        3168027|    2.17801174043024|NULL|                                                        11�|  TO|       18|        1572866|    1.14440772449783|\n",
      "|NULL|                                                        12�| PI|       26|        3118360|   0.833771597891199|NULL|                                                        12�| ES|       64|        3514952|     1.8207930008717|NULL|                                                        12�|  GO|      102|        6003788|    1.69892741049484|NULL|                                                        12�|  BA|      125|       14016906|   0.891780254501243|NULL|                                                        12�|  RJ|      152|       15989929|   0.950598342244046|NULL|                                                        12�|  PR|       45|        3168027|    1.42044243941103|NULL|                                                        12�|  AM|       43|        3514952|    1.22334529746068|NULL|                                                        12�|  SC|      136|        8452381|    1.60901407544217|NULL|                                                        12�|  AC|       10|         881935|    1.13387040995085|\n",
      "|NULL|                                                        13�| BA|      106|       14016906|   0.756229655817054|NULL|                                                        13�| TO|       24|        1383445|    1.73479972098638|NULL|                                                        13�|  RN|       49|        3168027|     1.5467039895809|NULL|                                                        13�|  MG|      170|       19597330|   0.867465108767368|NULL|                                                        13�|  RR|        4|         450479|   0.887943722126892|NULL|                                                        13�|  AM|       44|        3514952|     1.2517951880993|NULL|                                                        13�|  ES|       58|        6003788|     0.9660567628304|NULL|                                                        13�|  ES|       74|        6003788|    1.23255518016292|NULL|                                                        13�|  RJ|      191|       17264943|    1.10628804276968|\n",
      "|NULL|                                                        14�| RJ|      119|       15989929|   0.744218438993694|NULL|                                                        14�| RJ|      262|       15989929|    1.63853135307855|NULL|                                                        14�|  PR|      152|       10444526|    1.45530778514985|NULL|                                                        14�|  PE|       74|        8796448|   0.841248649454871|NULL|                                                        14�|  GO|       52|        6003788|   0.866119856330703|NULL|                                                        14�|  RS|       45|        3766528|    1.19473424862367|NULL|                                                        14�|  SC|       69|        8452381|   0.816338023569927|NULL|                                                        14�|  MS|       47|        7581051|   0.619966809351368|NULL|                                                        14�|  BA|      147|       14873064|   0.988363930929094|\n",
      "|NULL|                                                        15�| RN|       23|        3168027|   0.726003913476748|NULL|                                                        15�| PR|      156|       10444526|    1.49360535844327|NULL|                                                        15�|  AC|       10|         733559|    1.36321686462848|NULL|                                                        15�|  PR|       82|       10444526|   0.785100252515049|NULL|                                                        15�|  PB|       31|        3766528|   0.823039149051859|NULL|                                                        15�|  TO|       27|        3483985|   0.774974633932121|NULL|                                                        15�|  RO|       16|        2570160|   0.622529336694992|NULL|                                                        15�|  AM|       19|        3514952|   0.540547922133787|NULL|                                                        15�|  AL|       32|        3337357|    0.95884258112033|\n",
      "|NULL|                                                        16�| PA|       52|        7581051|   0.685920725239812|NULL|                                                        16�| BA|      208|       14016906|    1.48392234349007|NULL|                                                        16�|  BA|      191|       14016906|     1.3626402288779|NULL|                                                        16�|  TO|       10|        1383445|   0.722833217077658|NULL|                                                        16�|  ES|       28|        3514952|   0.796596937881371|NULL|                                                        16�|  ES|       29|        6003788|     0.4830283814152|NULL|                                                        16�|  PB|       33|        6248436|   0.528132159791666|NULL|                                                        16�|  CE|       80|       15989929|   0.500314916970551|NULL|                                                        16�|  AM|       38|        4144597|   0.916856331266948|\n",
      "|NULL|                                                        17�| SP|      272|       41262199|   0.659198992278623|NULL|                                                        17�| SP|      568|       41262199|    1.37656260152301|NULL|                                                        17�|  AP|        9|         669526|    1.34423457789541|NULL|                                                        17�|  ES|       24|        3514952|   0.682797375326889|NULL|                                                        17�|  PR|       84|       10444526|   0.804249039161758|NULL|                                                        17�|  SC|       38|        8452381|   0.449577462255902|NULL|                                                        17�|  AP|        3|         669526|   0.448078192631802|NULL|                                                        17�|  PB|       28|        6248436|   0.448112135580808|NULL|                                                        17�|  RO|       16|        1777225|    0.90027993079098|\n",
      "|NULL|                                                        18�| SE|       13|        2068017|   0.628621524871411|NULL|                                                        18�| SC|       86|        6248436|    1.37634441642677|NULL|                                                        18�|  MA|       85|        6574789|    1.29281715352386|NULL|                                                        18�|  RS|       66|       10693929|   0.617172603259288|NULL|                                                        18�|  RS|       84|       10693929|   0.785492404148185|NULL|                                                        18�|  PB|       26|        6248436|   0.416104125896464|NULL|                                                        18�|  CE|       67|       15989929|   0.419013742962836|NULL|                                                        18�|  AP|        3|         669526|   0.448078192631802|NULL|                                                        18�|  PR|       97|       11433957|   0.848350225560582|\n",
      "|NULL|                                                        19�| MA|       40|        6574789|   0.608384542834759|NULL|                                                        19�| RS|      125|       10693929|     1.1688875061729|NULL|                                                        19�|  PE|      113|        8796448|    1.28460942416757|NULL|                                                        19�|  SP|      252|       41262199|   0.610728478140489|NULL|                                                        19�|  CE|       60|        8452381|   0.709859150930371|NULL|                                                        19�|  MS|       24|        7581051|   0.316578796264528|NULL|                                                        19�|  MS|       28|        7581051|   0.369341928975283|NULL|                                                        19�|  TO|       12|        3483985|   0.344433170636498|NULL|                                                        19�|  MA|       58|        7075181|   0.819767013734348|\n",
      "+----+-----------------------------------------------------------+---+---------+---------------+--------------------+----+-----------------------------------------------------------+---+---------+---------------+--------------------+----+-----------------------------------------------------------+----+---------+---------------+--------------------+----+-----------------------------------------------------------+----+---------+---------------+--------------------+----+-----------------------------------------------------------+----+---------+---------------+--------------------+----+-----------------------------------------------------------+----+---------+---------------+--------------------+----+-----------------------------------------------------------+----+---------+---------------+--------------------+----+-----------------------------------------------------------+----+---------+---------------+--------------------+----+-----------------------------------------------------------+----+---------+---------------+--------------------+\n",
      "only showing top 20 rows\n",
      "\n"
     ]
    }
   ],
   "source": [
    "df.show()"
   ]
  },
  {
   "cell_type": "markdown",
   "metadata": {},
   "source": [
    "# 1 - Aggregation function"
   ]
  },
  {
   "cell_type": "markdown",
   "metadata": {},
   "source": [
    "## Aggregate on the entire DataFrame without groups (shorthand for df.groupBy().agg())."
   ]
  },
  {
   "cell_type": "code",
   "execution_count": 5,
   "metadata": {},
   "outputs": [],
   "source": [
    "agg_sample = spark.createDataFrame([(2, \"Alice\"), (5, \"Bob\")], schema=[\"age\", \"name\"])"
   ]
  },
  {
   "cell_type": "code",
   "execution_count": 6,
   "metadata": {},
   "outputs": [
    {
     "name": "stdout",
     "output_type": "stream",
     "text": [
      "+--------+\n",
      "|max(age)|\n",
      "+--------+\n",
      "|       5|\n",
      "+--------+\n",
      "\n"
     ]
    }
   ],
   "source": [
    "# example 1 - simple operations\n",
    "agg_df_1 = agg_sample.agg({\"age\": \"max\"})\n",
    "agg_df_1.show()"
   ]
  },
  {
   "cell_type": "code",
   "execution_count": 7,
   "metadata": {},
   "outputs": [
    {
     "name": "stdout",
     "output_type": "stream",
     "text": [
      "+---------+--------+\n",
      "|min(name)|max(age)|\n",
      "+---------+--------+\n",
      "|    Alice|       5|\n",
      "+---------+--------+\n",
      "\n"
     ]
    }
   ],
   "source": [
    "# example 2 - aggregating multiple columns\n",
    "agg_df_2 = agg_sample.agg(\n",
    "    {\n",
    "        \"age\": \"max\",\n",
    "        \"name\": \"min\"\n",
    "    }\n",
    ")\n",
    "agg_df_2.show()"
   ]
  },
  {
   "cell_type": "code",
   "execution_count": 8,
   "metadata": {},
   "outputs": [
    {
     "name": "stdout",
     "output_type": "stream",
     "text": [
      "+-------+----------+\n",
      "|MAX_AGE|NAME_COUNT|\n",
      "+-------+----------+\n",
      "|      5|         2|\n",
      "+-------+----------+\n",
      "\n"
     ]
    }
   ],
   "source": [
    "# exempla 3 - using sql functions for aggregations\n",
    "agg_df_3 = agg_sample.agg(\n",
    "    F.max(\"age\").alias(\"MAX_AGE\"),\n",
    "    F.count(\"name\").alias(\"NAME_COUNT\")\n",
    ").select(\"MAX_AGE\", \"NAME_COUNT\").show()"
   ]
  },
  {
   "cell_type": "code",
   "execution_count": 9,
   "metadata": {},
   "outputs": [
    {
     "name": "stdout",
     "output_type": "stream",
     "text": [
      "+---+--------+\n",
      "|age|count(1)|\n",
      "+---+--------+\n",
      "|  2|       1|\n",
      "|  5|       1|\n",
      "+---+--------+\n",
      "\n"
     ]
    }
   ],
   "source": [
    "# example 4 - using with groupBy\n",
    "agg_df_4 = agg_sample.groupBy(F.col(\"age\")).agg(F.count(\"*\"))\n",
    "agg_df_4.show()"
   ]
  },
  {
   "cell_type": "code",
   "execution_count": 10,
   "metadata": {},
   "outputs": [
    {
     "name": "stdout",
     "output_type": "stream",
     "text": [
      "+-------+-------+-------+---------+\n",
      "|min_age|max_age|avg_age|count_age|\n",
      "+-------+-------+-------+---------+\n",
      "|      2|      5|    3.5|        2|\n",
      "+-------+-------+-------+---------+\n",
      "\n"
     ]
    }
   ],
   "source": [
    "# example 5 - Aggregating with Multiple Functions on the Same Column\n",
    "agg_df_5 = agg_sample.agg(\n",
    "    F.min(\"age\").alias(\"min_age\"),\n",
    "    F.max(\"age\").alias(\"max_age\"),\n",
    "    F.avg(\"age\").alias(\"avg_age\"),\n",
    "    F.count(\"age\").alias(\"count_age\")\n",
    ")\n",
    "agg_df_5.show()"
   ]
  },
  {
   "cell_type": "code",
   "execution_count": 11,
   "metadata": {},
   "outputs": [
    {
     "name": "stdout",
     "output_type": "stream",
     "text": [
      "+-----+---------------+\n",
      "| name|custom_age_mean|\n",
      "+-----+---------------+\n",
      "|Alice|            2.0|\n",
      "|  Bob|            5.0|\n",
      "+-----+---------------+\n",
      "\n"
     ]
    }
   ],
   "source": [
    "# example 6 - using custom aggregations\n",
    "from pyspark.sql import types as T\n",
    "\n",
    "# Define a UDF for custom aggregation\n",
    "@F.udf(T.DoubleType())\n",
    "def custom_agg(values):\n",
    "    return sum(values) / len(values)  # Custom example: mean calculation\n",
    "\n",
    "# Apply custom aggregation\n",
    "agg_df_6 = agg_sample.groupBy(\"name\").agg(\n",
    "    custom_agg(F.collect_list(\"age\")).alias(\"custom_age_mean\")\n",
    ")\n",
    "agg_df_6.show()\n"
   ]
  },
  {
   "cell_type": "markdown",
   "metadata": {},
   "source": [
    "## Exercises \"agg\" function"
   ]
  },
  {
   "cell_type": "code",
   "execution_count": 12,
   "metadata": {},
   "outputs": [
    {
     "name": "stdout",
     "output_type": "stream",
     "text": [
      "+---+---------+----------+---+------+----------+\n",
      "| id|     name|department|age|salary|experience|\n",
      "+---+---------+----------+---+------+----------+\n",
      "|  1|    Alice|     Sales| 34| 70000|         5|\n",
      "|  2|      Bob|        HR| 45| 80000|        10|\n",
      "|  3|Catherine|        IT| 29| 90000|         3|\n",
      "|  4|    David|        IT| 39| 85000|         7|\n",
      "|  5|      Eve|     Sales| 41| 75000|         8|\n",
      "|  6|    Frank|        HR| 30| 60000|         2|\n",
      "|  7|    Grace|        IT| 35| 95000|         6|\n",
      "|  8|   Hannah|     Sales| 50| 65000|        12|\n",
      "|  9|      Ivy|        IT| 38| 87000|         9|\n",
      "| 10|     Jack|        HR| 28| 72000|         4|\n",
      "+---+---------+----------+---+------+----------+\n",
      "\n"
     ]
    }
   ],
   "source": [
    "# sample data\n",
    "data = [(1, \"Alice\", \"Sales\", 34, 70000, 5),\n",
    "        (2, \"Bob\", \"HR\", 45, 80000, 10),\n",
    "        (3, \"Catherine\", \"IT\", 29, 90000, 3),\n",
    "        (4, \"David\", \"IT\", 39, 85000, 7),\n",
    "        (5, \"Eve\", \"Sales\", 41, 75000, 8),\n",
    "        (6, \"Frank\", \"HR\", 30, 60000, 2),\n",
    "        (7, \"Grace\", \"IT\", 35, 95000, 6),\n",
    "        (8, \"Hannah\", \"Sales\", 50, 65000, 12),\n",
    "        (9, \"Ivy\", \"IT\", 38, 87000, 9),\n",
    "        (10, \"Jack\", \"HR\", 28, 72000, 4)]\n",
    "\n",
    "columns = [\"id\", \"name\", \"department\", \"age\", \"salary\", \"experience\"]\n",
    "\n",
    "agg_sample = spark.createDataFrame(data, columns)\n",
    "\n",
    "# Show the sample data\n",
    "agg_sample.show()"
   ]
  },
  {
   "cell_type": "code",
   "execution_count": 13,
   "metadata": {},
   "outputs": [
    {
     "name": "stdout",
     "output_type": "stream",
     "text": [
      "+-------+----------+----------------+\n",
      "|max_age|avg_salary|total_experience|\n",
      "+-------+----------+----------------+\n",
      "|     50|   77900.0|              66|\n",
      "+-------+----------+----------------+\n",
      "\n"
     ]
    }
   ],
   "source": [
    "# question 1: Find the maximum age, average salary, and total experience for all employees.\n",
    "q1 = agg_sample.agg(\n",
    "    F.max(\"age\").alias(\"max_age\"),\n",
    "    F.avg(\"salary\").alias(\"avg_salary\"),\n",
    "    F.sum(\"experience\").alias(\"total_experience\")\n",
    ").show()"
   ]
  },
  {
   "cell_type": "code",
   "execution_count": 14,
   "metadata": {},
   "outputs": [
    {
     "name": "stdout",
     "output_type": "stream",
     "text": [
      "+----------+-------+-----------------+----------------+\n",
      "|department|max_age|       avg_salary|total_experience|\n",
      "+----------+-------+-----------------+----------------+\n",
      "|     Sales|     50|          70000.0|              25|\n",
      "|        HR|     45|70666.66666666667|              16|\n",
      "|        IT|     39|          89250.0|              25|\n",
      "+----------+-------+-----------------+----------------+\n",
      "\n"
     ]
    }
   ],
   "source": [
    "# question 2: Group the employees by department and find the maximum age, average salary, and total experience for each department.\n",
    "q2 = agg_sample.groupBy(\"department\").agg(\n",
    "    F.max(\"age\").alias(\"max_age\"),\n",
    "    F.avg(\"salary\").alias(\"avg_salary\"),\n",
    "    F.sum(\"experience\").alias(\"total_experience\")\n",
    ").select(\n",
    "    \"department\",\n",
    "    \"max_age\",\n",
    "    \"avg_salary\",\n",
    "    \"total_experience\"\n",
    ").show()"
   ]
  },
  {
   "cell_type": "code",
   "execution_count": 15,
   "metadata": {},
   "outputs": [
    {
     "name": "stdout",
     "output_type": "stream",
     "text": [
      "+-------+----------+--------------+\n",
      "|min_age|max_salary|employee_count|\n",
      "+-------+----------+--------------+\n",
      "|     28|     95000|            10|\n",
      "+-------+----------+--------------+\n",
      "\n"
     ]
    }
   ],
   "source": [
    "# question 3: Find the minimum age, maximum salary, and count of employees.\n",
    "q3 = agg_sample.agg(\n",
    "    F.min(\"age\").alias(\"min_age\"),\n",
    "    F.max(\"salary\").alias(\"max_salary\"),\n",
    "    F.count(\"*\").alias(\"employee_count\")\n",
    ").show()"
   ]
  },
  {
   "cell_type": "code",
   "execution_count": 16,
   "metadata": {},
   "outputs": [
    {
     "name": "stdout",
     "output_type": "stream",
     "text": [
      "+----------+-------+----------+--------------+\n",
      "|department|min_age|max_salary|employee_count|\n",
      "+----------+-------+----------+--------------+\n",
      "|     Sales|     34|     75000|             3|\n",
      "|        HR|     28|     80000|             3|\n",
      "|        IT|     29|     95000|             4|\n",
      "+----------+-------+----------+--------------+\n",
      "\n"
     ]
    }
   ],
   "source": [
    "# question 4 - Group the employees by department and find the minimum age,\n",
    "# maximum salary, and count of employees for each department.\n",
    "q4 = agg_sample.groupBy(\"department\").agg(\n",
    "    F.min(\"age\").alias(\"min_age\"),\n",
    "    F.max(\"salary\").alias(\"max_salary\"),\n",
    "    F.count(\"*\").alias(\"employee_count\")\n",
    ").show()"
   ]
  },
  {
   "cell_type": "code",
   "execution_count": 17,
   "metadata": {},
   "outputs": [
    {
     "ename": "SyntaxError",
     "evalue": "'[' was never closed (515974048.py, line 6)",
     "output_type": "error",
     "traceback": [
      "\u001b[1;36m  Cell \u001b[1;32mIn[17], line 6\u001b[1;36m\u001b[0m\n\u001b[1;33m    columns = [\"total_salary\", \"avg_age\"\u001b[0m\n\u001b[1;37m              ^\u001b[0m\n\u001b[1;31mSyntaxError\u001b[0m\u001b[1;31m:\u001b[0m '[' was never closed\n"
     ]
    }
   ],
   "source": [
    "# question 5 - Find the average age and total salary of employees.\n",
    "q5 = agg_sample.agg({\n",
    "    \"age\": \"avg\",\n",
    "    \"salary\": \"sum\"\n",
    "})\n",
    "columns = [\"total_salary\", \"avg_age\"\n",
    "\n",
    "q5_df = q5.withColumns(columns)"
   ]
  },
  {
   "cell_type": "markdown",
   "metadata": {},
   "source": [
    "# 2 - withColumn function"
   ]
  },
  {
   "cell_type": "markdown",
   "metadata": {},
   "source": [
    "A função withColumn no PySpark é usada para adicionar uma nova coluna a um DataFrame ou para substituir uma coluna existente com base em uma expressão especificada\n",
    "\n",
    "Syntax:\n",
    "\n",
    "**DataFrame.withColumn(colName, col)**\n",
    "\n",
    "colName: O nome da nova coluna ou da coluna existente a ser substituída.\n",
    "col: Uma expressão que define os valores da coluna, que pode ser uma instância de Column, uma expressão SQL, ou uma função do módulo pyspark.sql.functions.\n"
   ]
  },
  {
   "cell_type": "markdown",
   "metadata": {},
   "source": [
    "## 2.1 - Examples"
   ]
  },
  {
   "cell_type": "markdown",
   "metadata": {},
   "source": [
    "**Adicionar uma nova coluna**\n",
    "\n",
    "Vamos adicionar uma nova coluna chamada \"idade_5_anos\" que será a idade atual acrescida de 5 anos."
   ]
  },
  {
   "cell_type": "code",
   "execution_count": null,
   "metadata": {},
   "outputs": [],
   "source": [
    "data = [(\"Alice\", 34), (\"Bob\", 45), (\"Catherine\", 29)]\n",
    "columns = [\"Nome\", \"Idade\"]\n",
    "\n",
    "df = spark.createDataFrame(data, columns)\n",
    "\n",
    "# Adicionar uma nova coluna \"idade_5_anos\"\n",
    "df = df.withColumn(\"idade_5_anos\", F.col(\"Idade\") + 5)"
   ]
  },
  {
   "cell_type": "code",
   "execution_count": null,
   "metadata": {},
   "outputs": [
    {
     "name": "stdout",
     "output_type": "stream",
     "text": [
      "+---------+-----+------------+\n",
      "|     Nome|Idade|idade_5_anos|\n",
      "+---------+-----+------------+\n",
      "|    Alice|   34|          39|\n",
      "|      Bob|   45|          50|\n",
      "|Catherine|   29|          34|\n",
      "+---------+-----+------------+\n",
      "\n"
     ]
    }
   ],
   "source": [
    "df.show()"
   ]
  },
  {
   "cell_type": "markdown",
   "metadata": {},
   "source": [
    "**Substituir uma coluna existente**\n",
    "\n",
    "Vamos substituir a coluna \"Idade\" com a idade acrescida de 10 anos."
   ]
  },
  {
   "cell_type": "code",
   "execution_count": null,
   "metadata": {},
   "outputs": [
    {
     "name": "stdout",
     "output_type": "stream",
     "text": [
      "+---------+-----+------------+\n",
      "|     Nome|Idade|idade_5_anos|\n",
      "+---------+-----+------------+\n",
      "|    Alice|   44|          39|\n",
      "|      Bob|   55|          50|\n",
      "|Catherine|   39|          34|\n",
      "+---------+-----+------------+\n",
      "\n"
     ]
    }
   ],
   "source": [
    "df = df.withColumn(\"Idade\", F.col(\"Idade\") + 10)\n",
    "df.show()"
   ]
  },
  {
   "cell_type": "markdown",
   "metadata": {},
   "source": [
    "**Converter tipos de dados**"
   ]
  },
  {
   "cell_type": "code",
   "execution_count": null,
   "metadata": {},
   "outputs": [
    {
     "name": "stdout",
     "output_type": "stream",
     "text": [
      "+---------+-----+------------+\n",
      "|     Nome|Idade|idade_5_anos|\n",
      "+---------+-----+------------+\n",
      "|    Alice|   44|          39|\n",
      "|      Bob|   55|          50|\n",
      "|Catherine|   39|          34|\n",
      "+---------+-----+------------+\n",
      "\n"
     ]
    }
   ],
   "source": [
    "# Converter uma coluna de string para inteiro\n",
    "df = df.withColumn(\"Idade\", F.col(\"Idade\").cast(\"int\"))\n",
    "df.show()"
   ]
  },
  {
   "cell_type": "markdown",
   "metadata": {},
   "source": [
    "**Aplicar funções SQL integradas**"
   ]
  },
  {
   "cell_type": "code",
   "execution_count": null,
   "metadata": {},
   "outputs": [
    {
     "name": "stdout",
     "output_type": "stream",
     "text": [
      "+---------+-----+------------+--------+\n",
      "|     Nome|Idade|idade_5_anos|AnoAtual|\n",
      "+---------+-----+------------+--------+\n",
      "|    Alice|   44|          39|    2024|\n",
      "|      Bob|   55|          50|    2024|\n",
      "|Catherine|   39|          34|    2024|\n",
      "+---------+-----+------------+--------+\n",
      "\n"
     ]
    }
   ],
   "source": [
    "# Adicionar uma nova coluna \"AnoAtual\" usando a função current_year\n",
    "df = df.withColumn(\"AnoAtual\", F.year(F.current_date()))\n",
    "df.show()"
   ]
  },
  {
   "cell_type": "markdown",
   "metadata": {},
   "source": [
    "**Criar uma coluna calculada com base em outras colunas**"
   ]
  },
  {
   "cell_type": "code",
   "execution_count": null,
   "metadata": {},
   "outputs": [],
   "source": [
    "# Adicionar uma nova coluna \"SalarioAnual\" que é \"SalarioMensal\" vezes 12\n",
    "df = df.withColumn(\"SalarioAnual\", F.col(\"SalarioMensal\") * 12)"
   ]
  },
  {
   "cell_type": "markdown",
   "metadata": {},
   "source": [
    "## 2.2 - Exercises"
   ]
  },
  {
   "cell_type": "code",
   "execution_count": 23,
   "metadata": {},
   "outputs": [],
   "source": [
    "# data\n",
    "data = [\n",
    "    (\"John\", \"Doe\", 28),\n",
    "    (\"Jane\", \"Smith\", 32),\n",
    "    (\"Mike\", \"Johnson\", 25),\n",
    "    (\"Emily\", \"Brown\", 34),\n",
    "    (\"Kevin\", \"Davis\", 30)\n",
    "]\n",
    "\n",
    "columns = [\"first_name\", \"last_name\", \"age\"]\n",
    "\n",
    "# Create a DataFrame\n",
    "df = spark.createDataFrame(data, columns)"
   ]
  },
  {
   "cell_type": "code",
   "execution_count": 24,
   "metadata": {},
   "outputs": [
    {
     "name": "stdout",
     "output_type": "stream",
     "text": [
      "+----------+---------+---+------------+\n",
      "|first_name|last_name|age|   full_name|\n",
      "+----------+---------+---+------------+\n",
      "|      John|      Doe| 28|    John Doe|\n",
      "|      Jane|    Smith| 32|  Jane Smith|\n",
      "|      Mike|  Johnson| 25|Mike Johnson|\n",
      "|     Emily|    Brown| 34| Emily Brown|\n",
      "|     Kevin|    Davis| 30| Kevin Davis|\n",
      "+----------+---------+---+------------+\n",
      "\n"
     ]
    }
   ],
   "source": [
    "# 1 - Add a new column full_name by concatenating first_name and last_name with a space in between.\n",
    "full_name_df = df.withColumn(\n",
    "    \"full_name\",\n",
    "    F.concat(F.col(\"first_name\"), F.lit(\" \"), F.col(\"last_name\"))\n",
    "    )\n",
    "full_name_df.show()"
   ]
  },
  {
   "cell_type": "code",
   "execution_count": 25,
   "metadata": {},
   "outputs": [
    {
     "name": "stdout",
     "output_type": "stream",
     "text": [
      "+----------+---------+---+-----------------+\n",
      "|first_name|last_name|age|age_after_5_years|\n",
      "+----------+---------+---+-----------------+\n",
      "|      John|      Doe| 28|               33|\n",
      "|      Jane|    Smith| 32|               37|\n",
      "|      Mike|  Johnson| 25|               30|\n",
      "|     Emily|    Brown| 34|               39|\n",
      "|     Kevin|    Davis| 30|               35|\n",
      "+----------+---------+---+-----------------+\n",
      "\n"
     ]
    }
   ],
   "source": [
    "# 2 - Create a new column age_after_5_years that shows each person's age 5 years from now.\n",
    "age_df = df.withColumn(\n",
    "    \"age_after_5_years\",\n",
    "    F.col(\"age\") + 5\n",
    ")\n",
    "\n",
    "age_df.show()"
   ]
  },
  {
   "cell_type": "code",
   "execution_count": 26,
   "metadata": {},
   "outputs": [
    {
     "name": "stdout",
     "output_type": "stream",
     "text": [
      "+----------+---------+---+-----------+\n",
      "|first_name|last_name|age|name_length|\n",
      "+----------+---------+---+-----------+\n",
      "|      John|      Doe| 28|          4|\n",
      "|      Jane|    Smith| 32|          4|\n",
      "|      Mike|  Johnson| 25|          4|\n",
      "|     Emily|    Brown| 34|          5|\n",
      "|     Kevin|    Davis| 30|          5|\n",
      "+----------+---------+---+-----------+\n",
      "\n"
     ]
    }
   ],
   "source": [
    "# 3 - Add a column name_length that calculates the length of the first_name.\n",
    "name_df = df.withColumn(\n",
    "    \"name_length\",\n",
    "    F.length(\"first_name\")\n",
    ")\n",
    "name_df.show()"
   ]
  },
  {
   "cell_type": "code",
   "execution_count": 27,
   "metadata": {},
   "outputs": [
    {
     "name": "stdout",
     "output_type": "stream",
     "text": [
      "+----------+---------+---+-------+\n",
      "|first_name|last_name|age|age_str|\n",
      "+----------+---------+---+-------+\n",
      "|      John|      Doe| 28|     28|\n",
      "|      Jane|    Smith| 32|     32|\n",
      "|      Mike|  Johnson| 25|     25|\n",
      "|     Emily|    Brown| 34|     34|\n",
      "|     Kevin|    Davis| 30|     30|\n",
      "+----------+---------+---+-------+\n",
      "\n"
     ]
    }
   ],
   "source": [
    "# 4 - Convert the age column to a string type and store it in a new column age_str.\n",
    "str_df = df.withColumn(\n",
    "    \"age_str\",\n",
    "    F.col(\"age\").cast(\"int\")\n",
    ")\n",
    "\n",
    "str_df.show()"
   ]
  },
  {
   "cell_type": "code",
   "execution_count": 28,
   "metadata": {},
   "outputs": [
    {
     "name": "stdout",
     "output_type": "stream",
     "text": [
      "+----------+---------+---+--------+\n",
      "|first_name|last_name|age|is_adult|\n",
      "+----------+---------+---+--------+\n",
      "|      John|      Doe| 28|    true|\n",
      "|      Jane|    Smith| 32|    true|\n",
      "|      Mike|  Johnson| 25|    true|\n",
      "|     Emily|    Brown| 34|    true|\n",
      "|     Kevin|    Davis| 30|    true|\n",
      "+----------+---------+---+--------+\n",
      "\n"
     ]
    }
   ],
   "source": [
    "# 5 - Create a column is_adult that indicates whether a person is an adult (age >= 18).\n",
    "adult_df = df.withColumn(\n",
    "    \"is_adult\",\n",
    "    F.col(\"age\") >= 18\n",
    ")\n",
    "\n",
    "adult_df.show()"
   ]
  },
  {
   "cell_type": "code",
   "execution_count": 31,
   "metadata": {},
   "outputs": [
    {
     "name": "stdout",
     "output_type": "stream",
     "text": [
      "+----------+---------+---+-------------+\n",
      "|first_name|last_name|age|name_in_upper|\n",
      "+----------+---------+---+-------------+\n",
      "|      John|      Doe| 28|         JOHN|\n",
      "|      Jane|    Smith| 32|         JANE|\n",
      "|      Mike|  Johnson| 25|         MIKE|\n",
      "|     Emily|    Brown| 34|        EMILY|\n",
      "|     Kevin|    Davis| 30|        KEVIN|\n",
      "+----------+---------+---+-------------+\n",
      "\n"
     ]
    }
   ],
   "source": [
    "# 6 - Add a column name_in_uppercase that converts the first_name to uppercase.\n",
    "upper_df = df.withColumn(\n",
    "    \"name_in_upper\",\n",
    "    F.upper(\"first_name\")\n",
    ")\n",
    "\n",
    "upper_df.show()"
   ]
  },
  {
   "cell_type": "code",
   "execution_count": 32,
   "metadata": {},
   "outputs": [
    {
     "name": "stdout",
     "output_type": "stream",
     "text": [
      "+----------+---------+---+------------+\n",
      "|first_name|last_name|age|age_category|\n",
      "+----------+---------+---+------------+\n",
      "|      John|      Doe| 28|       Young|\n",
      "|      Jane|    Smith| 32|         Old|\n",
      "|      Mike|  Johnson| 25|       Young|\n",
      "|     Emily|    Brown| 34|         Old|\n",
      "|     Kevin|    Davis| 30|         Old|\n",
      "+----------+---------+---+------------+\n",
      "\n"
     ]
    }
   ],
   "source": [
    "# 7 - Create a column age_category that categorizes age into \"Young\" (age < 30) and \"Old\" (age >= 30).\n",
    "category_df = df.withColumn(\n",
    "    \"age_category\",\n",
    "    F.when(F.col(\"age\") < 30, \"Young\")\n",
    "    .when(F.col(\"age\") >= 30, \"Old\")\n",
    ")\n",
    "\n",
    "category_df.show()"
   ]
  },
  {
   "cell_type": "code",
   "execution_count": 34,
   "metadata": {},
   "outputs": [
    {
     "name": "stdout",
     "output_type": "stream",
     "text": [
      "+----------+---------+---+----------------+\n",
      "|first_name|last_name|age|last_name_length|\n",
      "+----------+---------+---+----------------+\n",
      "|      John|      Doe| 28|               3|\n",
      "|      Jane|    Smith| 32|               5|\n",
      "|      Mike|  Johnson| 25|               7|\n",
      "|     Emily|    Brown| 34|               5|\n",
      "|     Kevin|    Davis| 30|               5|\n",
      "+----------+---------+---+----------------+\n",
      "\n"
     ]
    }
   ],
   "source": [
    "# 8 - Add a column last_name_length that calculates the length of the last_name.\n",
    "last_name_df = df.withColumn(\n",
    "    \"last_name_length\",\n",
    "    F.length(\"last_name\")\n",
    ")\n",
    "last_name_df.show()"
   ]
  },
  {
   "cell_type": "code",
   "execution_count": 37,
   "metadata": {},
   "outputs": [
    {
     "name": "stdout",
     "output_type": "stream",
     "text": [
      "+----------+---------+---+-----------------+\n",
      "|first_name|last_name|age|name_with_initial|\n",
      "+----------+---------+---+-----------------+\n",
      "|      John|      Doe| 28|           John D|\n",
      "|      Jane|    Smith| 32|           Jane S|\n",
      "|      Mike|  Johnson| 25|           Mike J|\n",
      "|     Emily|    Brown| 34|          Emily B|\n",
      "|     Kevin|    Davis| 30|          Kevin D|\n",
      "+----------+---------+---+-----------------+\n",
      "\n"
     ]
    }
   ],
   "source": [
    "# 9 - Create a column name_with_initial that combines first_name and only the first letter of last_name.\n",
    "initial_df = df.withColumn(\n",
    "    \"name_with_initial\",\n",
    "    F.concat(F.col(\"first_name\"), F.lit(\" \"), F.col(\"last_name\").substr(1, 1))\n",
    ")\n",
    "initial_df.show()"
   ]
  },
  {
   "cell_type": "code",
   "execution_count": 38,
   "metadata": {},
   "outputs": [
    {
     "name": "stdout",
     "output_type": "stream",
     "text": [
      "+----------+---------+---+---------------+\n",
      "|first_name|last_name|age|even_or_odd_age|\n",
      "+----------+---------+---+---------------+\n",
      "|      John|      Doe| 28|           Even|\n",
      "|      Jane|    Smith| 32|           Even|\n",
      "|      Mike|  Johnson| 25|            Odd|\n",
      "|     Emily|    Brown| 34|           Even|\n",
      "|     Kevin|    Davis| 30|           Even|\n",
      "+----------+---------+---+---------------+\n",
      "\n"
     ]
    }
   ],
   "source": [
    "# 10 - Add a column even_or_odd_age that labels each person's age as \"Even\" or \"Odd\".\n",
    "even_odd = df.withColumn(\n",
    "    \"even_or_odd_age\",\n",
    "    F.when(F.col(\"age\") % 2 == 0, \"Even\")\n",
    "    .when(F.col(\"age\") % 2 != 0, \"Odd\")\n",
    ")\n",
    "\n",
    "even_odd.show()"
   ]
  },
  {
   "cell_type": "code",
   "execution_count": null,
   "metadata": {},
   "outputs": [],
   "source": []
  },
  {
   "cell_type": "code",
   "execution_count": null,
   "metadata": {},
   "outputs": [],
   "source": []
  }
 ],
 "metadata": {
  "kernelspec": {
   "display_name": "Python 3",
   "language": "python",
   "name": "python3"
  },
  "language_info": {
   "codemirror_mode": {
    "name": "ipython",
    "version": 3
   },
   "file_extension": ".py",
   "mimetype": "text/x-python",
   "name": "python",
   "nbconvert_exporter": "python",
   "pygments_lexer": "ipython3",
   "version": "3.10.14"
  }
 },
 "nbformat": 4,
 "nbformat_minor": 2
}
