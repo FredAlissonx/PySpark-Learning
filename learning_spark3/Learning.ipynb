{
 "cells": [
  {
   "cell_type": "code",
   "execution_count": 1,
   "metadata": {},
   "outputs": [],
   "source": [
    "import pyspark"
   ]
  },
  {
   "cell_type": "code",
   "execution_count": 9,
   "metadata": {},
   "outputs": [
    {
     "name": "stdout",
     "output_type": "stream",
     "text": [
      "Collecting Spark.test\n",
      "  Downloading spark-test-0.2.8.tar.gz (4.9 kB)\n",
      "  Preparing metadata (setup.py): started\n",
      "  Preparing metadata (setup.py): finished with status 'done'\n",
      "Requirement already satisfied: pyspark in c:\\education\\pyspark_learning\\.conda\\lib\\site-packages (from Spark.test) (3.5.1)\n",
      "Requirement already satisfied: py4j==0.10.9.7 in c:\\education\\pyspark_learning\\.conda\\lib\\site-packages (from pyspark->Spark.test) (0.10.9.7)\n",
      "Building wheels for collected packages: Spark.test\n",
      "  Building wheel for Spark.test (setup.py): started\n",
      "  Building wheel for Spark.test (setup.py): finished with status 'done'\n",
      "  Created wheel for Spark.test: filename=spark_test-0.2.8-py3-none-any.whl size=5403 sha256=43e09f00a3e1a4b87990b86cadccfcd369df327cb10b2b29255b9c158ed8247e\n",
      "  Stored in directory: c:\\users\\fred\\appdata\\local\\pip\\cache\\wheels\\cd\\f2\\28\\38553687a57705c468c0460a354f60e0eb3ac6d4185e550989\n",
      "Successfully built Spark.test\n",
      "Installing collected packages: Spark.test\n",
      "Successfully installed Spark.test-0.2.8\n",
      "Note: you may need to restart the kernel to use updated packages.\n"
     ]
    }
   ],
   "source": [
    "pip install Spark.test"
   ]
  },
  {
   "cell_type": "code",
   "execution_count": 9,
   "metadata": {},
   "outputs": [
    {
     "name": "stdout",
     "output_type": "stream",
     "text": [
      "['c:\\\\Education\\\\PySpark_Learning\\\\.conda\\\\python310.zip', 'c:\\\\Education\\\\PySpark_Learning\\\\.conda\\\\DLLs', 'c:\\\\Education\\\\PySpark_Learning\\\\.conda\\\\lib', 'c:\\\\Education\\\\PySpark_Learning\\\\.conda', '', 'c:\\\\Education\\\\PySpark_Learning\\\\.conda\\\\lib\\\\site-packages', 'c:\\\\Education\\\\PySpark_Learning\\\\.conda\\\\lib\\\\site-packages\\\\win32', 'c:\\\\Education\\\\PySpark_Learning\\\\.conda\\\\lib\\\\site-packages\\\\win32\\\\lib', 'c:\\\\Education\\\\PySpark_Learning\\\\.conda\\\\lib\\\\site-packages\\\\Pythonwin']\n"
     ]
    }
   ],
   "source": [
    "import sys\n",
    "print(sys.path)"
   ]
  },
  {
   "cell_type": "code",
   "execution_count": 13,
   "metadata": {},
   "outputs": [],
   "source": []
  },
  {
   "cell_type": "code",
   "execution_count": 16,
   "metadata": {},
   "outputs": [
    {
     "ename": "ModuleNotFoundError",
     "evalue": "No module named 'Spark'",
     "output_type": "error",
     "traceback": [
      "\u001b[1;31m---------------------------------------------------------------------------\u001b[0m",
      "\u001b[1;31mModuleNotFoundError\u001b[0m                       Traceback (most recent call last)",
      "Cell \u001b[1;32mIn[16], line 1\u001b[0m\n\u001b[1;32m----> 1\u001b[0m \u001b[38;5;28;01mfrom\u001b[39;00m \u001b[38;5;21;01mSpark\u001b[39;00m \u001b[38;5;28;01mimport\u001b[39;00m test\n\u001b[0;32m      2\u001b[0m car \u001b[38;5;241m=\u001b[39m Car(\u001b[38;5;124m\"\u001b[39m\u001b[38;5;124mFred\u001b[39m\u001b[38;5;124m\"\u001b[39m, \u001b[38;5;241m123\u001b[39m)\n",
      "\u001b[1;31mModuleNotFoundError\u001b[0m: No module named 'Spark'"
     ]
    }
   ],
   "source": [
    "\n",
    "car = Car(\"Fred\", 123)"
   ]
  },
  {
   "cell_type": "code",
   "execution_count": null,
   "metadata": {},
   "outputs": [],
   "source": []
  },
  {
   "cell_type": "code",
   "execution_count": null,
   "metadata": {},
   "outputs": [],
   "source": []
  }
 ],
 "metadata": {
  "kernelspec": {
   "display_name": "Python 3",
   "language": "python",
   "name": "python3"
  },
  "language_info": {
   "codemirror_mode": {
    "name": "ipython",
    "version": 3
   },
   "file_extension": ".py",
   "mimetype": "text/x-python",
   "name": "python",
   "nbconvert_exporter": "python",
   "pygments_lexer": "ipython3",
   "version": "3.10.14"
  }
 },
 "nbformat": 4,
 "nbformat_minor": 2
}
